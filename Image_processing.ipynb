{
  "nbformat": 4,
  "nbformat_minor": 0,
  "metadata": {
    "colab": {
      "provenance": [],
      "include_colab_link": true
    },
    "kernelspec": {
      "name": "python3",
      "display_name": "Python 3"
    },
    "language_info": {
      "name": "python"
    }
  },
  "cells": [
    {
      "cell_type": "markdown",
      "metadata": {
        "id": "view-in-github",
        "colab_type": "text"
      },
      "source": [
        "<a href=\"https://colab.research.google.com/github/Fatemekm98/Image-Proccessing/blob/main/Image_processing.ipynb\" target=\"_parent\"><img src=\"https://colab.research.google.com/assets/colab-badge.svg\" alt=\"Open In Colab\"/></a>"
      ]
    },
    {
      "cell_type": "code",
      "execution_count": null,
      "metadata": {
        "colab": {
          "base_uri": "https://localhost:8080/"
        },
        "id": "x5asM1pxj02X",
        "outputId": "7b727a82-8e91-4f46-d86a-d23b80600675"
      },
      "outputs": [
        {
          "output_type": "stream",
          "name": "stdout",
          "text": [
            "[[[209 210 206]\n",
            "  [209 210 206]\n",
            "  [209 210 206]\n",
            "  ...\n",
            "  [185 188 186]\n",
            "  [185 188 186]\n",
            "  [185 188 186]]\n",
            "\n",
            " [[209 210 206]\n",
            "  [209 210 206]\n",
            "  [209 210 206]\n",
            "  ...\n",
            "  [185 188 186]\n",
            "  [185 188 186]\n",
            "  [185 188 186]]\n",
            "\n",
            " [[209 210 206]\n",
            "  [209 210 206]\n",
            "  [208 209 205]\n",
            "  ...\n",
            "  [185 188 186]\n",
            "  [185 188 186]\n",
            "  [185 188 186]]\n",
            "\n",
            " ...\n",
            "\n",
            " [[109 117 124]\n",
            "  [110 118 125]\n",
            "  [110 118 125]\n",
            "  ...\n",
            "  [134 143 153]\n",
            "  [134 143 153]\n",
            "  [135 144 154]]\n",
            "\n",
            " [[110 118 125]\n",
            "  [111 119 126]\n",
            "  [111 119 126]\n",
            "  ...\n",
            "  [133 142 152]\n",
            "  [133 142 152]\n",
            "  [133 142 152]]\n",
            "\n",
            " [[112 120 127]\n",
            "  [112 120 127]\n",
            "  [112 120 127]\n",
            "  ...\n",
            "  [132 141 151]\n",
            "  [133 142 152]\n",
            "  [133 142 152]]]\n"
          ]
        }
      ],
      "source": [
        "import cv2,matplotlib\n",
        "import numpy as np\n",
        "import matplotlib.pyplot as plt\n",
        "from google.colab.patches import cv2_imshow\n",
        "pic = cv2.imread('/content/sign.jpg')\n",
        "print (pic)"
      ]
    },
    {
      "cell_type": "code",
      "source": [
        "pic.shape"
      ],
      "metadata": {
        "id": "ws6cMWWQkYQi",
        "colab": {
          "base_uri": "https://localhost:8080/"
        },
        "outputId": "f357d5fb-bba0-4f3c-fbe1-d787be126f2c"
      },
      "execution_count": null,
      "outputs": [
        {
          "output_type": "execute_result",
          "data": {
            "text/plain": [
              "(1280, 960, 3)"
            ]
          },
          "metadata": {},
          "execution_count": 7
        }
      ]
    },
    {
      "cell_type": "code",
      "source": [
        "gray_pic = cv2.cvtColor(pic , cv2.COLOR_RGB2GRAY)\n",
        "plt.imshow(cv2.cvtColor(gray_pic, cv2.COLOR_GRAY2RGB))"
      ],
      "metadata": {
        "colab": {
          "base_uri": "https://localhost:8080/",
          "height": 286
        },
        "id": "u4mSywIOiCWu",
        "outputId": "79822fef-6937-4744-b7ce-df5cc1e059e4"
      },
      "execution_count": null,
      "outputs": [
        {
          "output_type": "execute_result",
          "data": {
            "text/plain": [
              "<matplotlib.image.AxesImage at 0x7fd784f0dee0>"
            ]
          },
          "metadata": {},
          "execution_count": 8
        },
        {
          "output_type": "display_data",
          "data": {
            "text/plain": [
              "<Figure size 432x288 with 1 Axes>"
            ],
            "image/png": "[encoded data removed]"
          },
          "metadata": {
            "needs_background": "light"
          }
        }
      ]
    },
    {
      "cell_type": "code",
      "source": [
        "gray_pic.shape"
      ],
      "metadata": {
        "colab": {
          "base_uri": "https://localhost:8080/"
        },
        "id": "Whp8MZwBiL9D",
        "outputId": "82b361c1-e04f-44a6-93d1-d758ab51a1e4"
      },
      "execution_count": null,
      "outputs": [
        {
          "output_type": "execute_result",
          "data": {
            "text/plain": [
              "(1280, 960)"
            ]
          },
          "metadata": {},
          "execution_count": 10
        }
      ]
    },
    {
      "cell_type": "code",
      "source": [
        "print(gray_pic)"
      ],
      "metadata": {
        "colab": {
          "base_uri": "https://localhost:8080/"
        },
        "id": "G5HWTIOhii9K",
        "outputId": "f7d69d76-5eee-4db0-a843-9b41406807dc"
      },
      "execution_count": null,
      "outputs": [
        {
          "output_type": "stream",
          "name": "stdout",
          "text": [
            "[[209 209 209 ... 187 187 187]\n",
            " [209 209 209 ... 187 187 187]\n",
            " [209 209 208 ... 187 187 187]\n",
            " ...\n",
            " [115 116 116 ... 141 141 142]\n",
            " [116 117 117 ... 140 140 140]\n",
            " [118 118 118 ... 139 140 140]]\n"
          ]
        }
      ]
    },
    {
      "cell_type": "code",
      "source": [
        "thresh1 = cv2.threshold(gray_pic , 20, 255, cv2.THRESH_BINARY)[1]\n",
        "print(thresh1)"
      ],
      "metadata": {
        "colab": {
          "base_uri": "https://localhost:8080/"
        },
        "id": "YlzTcvYtip0H",
        "outputId": "23760a5d-62b3-4131-e5ac-77f4c018738a"
      },
      "execution_count": null,
      "outputs": [
        {
          "output_type": "stream",
          "name": "stdout",
          "text": [
            "[[255 255 255 ... 255 255 255]\n",
            " [255 255 255 ... 255 255 255]\n",
            " [255 255 255 ... 255 255 255]\n",
            " ...\n",
            " [255 255 255 ... 255 255 255]\n",
            " [255 255 255 ... 255 255 255]\n",
            " [255 255 255 ... 255 255 255]]\n"
          ]
        }
      ]
    },
    {
      "cell_type": "code",
      "source": [
        "thresh1[1200]"
      ],
      "metadata": {
        "colab": {
          "base_uri": "https://localhost:8080/"
        },
        "id": "aovr90khiv9C",
        "outputId": "86404517-6db1-4b0b-c329-b63d1a4cc664"
      },
      "execution_count": null,
      "outputs": [
        {
          "output_type": "execute_result",
          "data": {
            "text/plain": [
              "array([255, 255, 255, 255, 255, 255, 255, 255, 255, 255, 255, 255, 255,\n",
              "       255, 255, 255, 255, 255, 255, 255, 255, 255, 255, 255, 255, 255,\n",
              "       255, 255, 255, 255, 255, 255, 255, 255, 255, 255, 255, 255, 255,\n",
              "       255, 255, 255, 255, 255, 255, 255, 255, 255, 255, 255, 255, 255,\n",
              "       255, 255, 255, 255, 255, 255, 255, 255, 255, 255, 255, 255, 255,\n",
              "       255, 255, 255, 255, 255, 255, 255, 255, 255, 255, 255, 255, 255,\n",
              "       255, 255, 255, 255, 255, 255, 255, 255, 255, 255, 255, 255, 255,\n",
              "       255, 255, 255, 255, 255, 255, 255, 255, 255, 255, 255, 255, 255,\n",
              "       255, 255, 255, 255, 255, 255, 255, 255, 255, 255, 255, 255, 255,\n",
              "       255, 255, 255, 255, 255, 255, 255, 255, 255, 255, 255, 255, 255,\n",
              "       255, 255, 255, 255, 255, 255, 255, 255, 255, 255, 255, 255, 255,\n",
              "       255, 255, 255, 255, 255, 255, 255, 255, 255, 255, 255, 255, 255,\n",
              "       255, 255, 255, 255, 255, 255, 255, 255, 255, 255, 255, 255, 255,\n",
              "       255, 255, 255, 255, 255, 255, 255, 255, 255, 255, 255, 255, 255,\n",
              "       255, 255, 255, 255, 255, 255, 255, 255, 255, 255, 255, 255, 255,\n",
              "       255, 255, 255, 255, 255, 255, 255, 255, 255, 255, 255, 255, 255,\n",
              "       255, 255, 255, 255, 255, 255, 255, 255, 255, 255, 255, 255, 255,\n",
              "       255, 255, 255, 255, 255, 255, 255, 255, 255, 255, 255, 255, 255,\n",
              "       255, 255, 255, 255, 255, 255, 255, 255, 255, 255, 255, 255, 255,\n",
              "       255, 255, 255, 255, 255, 255, 255, 255, 255, 255, 255, 255, 255,\n",
              "       255, 255, 255, 255, 255, 255, 255, 255, 255, 255, 255, 255, 255,\n",
              "       255, 255, 255, 255, 255, 255, 255, 255, 255, 255, 255, 255, 255,\n",
              "       255, 255, 255, 255, 255, 255, 255, 255, 255, 255, 255, 255, 255,\n",
              "       255, 255, 255, 255, 255, 255, 255, 255, 255, 255, 255, 255, 255,\n",
              "       255, 255, 255, 255, 255, 255, 255, 255, 255, 255, 255, 255, 255,\n",
              "       255, 255, 255, 255, 255, 255, 255, 255, 255, 255, 255, 255, 255,\n",
              "       255, 255, 255, 255, 255, 255, 255, 255, 255, 255, 255, 255, 255,\n",
              "       255, 255, 255, 255, 255, 255, 255, 255, 255, 255, 255, 255, 255,\n",
              "       255, 255, 255, 255, 255, 255, 255, 255, 255, 255, 255, 255, 255,\n",
              "       255, 255, 255, 255, 255, 255, 255, 255, 255, 255, 255, 255, 255,\n",
              "       255, 255, 255, 255, 255, 255, 255, 255, 255, 255, 255, 255, 255,\n",
              "       255, 255, 255, 255, 255, 255, 255, 255, 255, 255, 255, 255, 255,\n",
              "       255, 255, 255, 255, 255, 255, 255, 255, 255, 255, 255, 255, 255,\n",
              "       255, 255, 255, 255, 255, 255, 255, 255, 255, 255, 255, 255, 255,\n",
              "       255, 255, 255, 255, 255, 255, 255, 255, 255, 255, 255, 255, 255,\n",
              "       255, 255, 255, 255, 255, 255, 255, 255, 255, 255, 255, 255, 255,\n",
              "       255, 255, 255, 255, 255, 255, 255, 255, 255, 255, 255, 255, 255,\n",
              "       255, 255, 255, 255, 255, 255, 255, 255, 255, 255, 255, 255, 255,\n",
              "       255, 255, 255, 255, 255, 255, 255, 255, 255, 255, 255, 255, 255,\n",
              "       255, 255, 255, 255, 255, 255, 255, 255, 255, 255, 255, 255, 255,\n",
              "       255, 255, 255, 255, 255, 255, 255, 255, 255, 255, 255, 255, 255,\n",
              "       255, 255, 255, 255, 255, 255, 255, 255, 255, 255, 255, 255, 255,\n",
              "       255, 255, 255, 255, 255, 255, 255, 255, 255, 255, 255, 255, 255,\n",
              "       255, 255, 255, 255, 255, 255, 255, 255, 255, 255, 255, 255, 255,\n",
              "       255, 255, 255, 255, 255, 255, 255, 255, 255, 255, 255, 255, 255,\n",
              "       255, 255, 255, 255, 255, 255, 255, 255, 255, 255, 255, 255, 255,\n",
              "       255, 255, 255, 255, 255, 255, 255, 255, 255, 255, 255, 255, 255,\n",
              "       255, 255, 255, 255, 255, 255, 255, 255, 255, 255, 255, 255, 255,\n",
              "       255, 255, 255, 255, 255, 255, 255, 255, 255, 255, 255, 255, 255,\n",
              "       255, 255, 255, 255, 255, 255, 255, 255, 255, 255, 255, 255, 255,\n",
              "       255, 255, 255, 255, 255, 255, 255, 255, 255, 255, 255, 255, 255,\n",
              "       255, 255, 255, 255, 255, 255, 255, 255, 255, 255, 255, 255, 255,\n",
              "       255, 255, 255, 255, 255, 255, 255, 255, 255, 255, 255, 255, 255,\n",
              "       255, 255, 255, 255, 255, 255, 255, 255, 255, 255, 255, 255, 255,\n",
              "       255, 255, 255, 255, 255, 255, 255, 255, 255, 255, 255, 255, 255,\n",
              "       255, 255, 255, 255, 255, 255, 255, 255, 255, 255, 255, 255, 255,\n",
              "       255, 255, 255, 255, 255, 255, 255, 255, 255, 255, 255, 255, 255,\n",
              "       255, 255, 255, 255, 255, 255, 255, 255, 255, 255, 255, 255, 255,\n",
              "       255, 255, 255, 255, 255, 255, 255, 255, 255, 255, 255, 255, 255,\n",
              "       255, 255, 255, 255, 255, 255, 255, 255, 255, 255, 255, 255, 255,\n",
              "       255, 255, 255, 255, 255, 255, 255, 255, 255, 255, 255, 255, 255,\n",
              "       255, 255, 255, 255, 255, 255, 255, 255, 255, 255, 255, 255, 255,\n",
              "       255, 255, 255, 255, 255, 255, 255, 255, 255, 255, 255, 255, 255,\n",
              "       255, 255, 255, 255, 255, 255, 255, 255, 255, 255, 255, 255, 255,\n",
              "       255, 255, 255, 255, 255, 255, 255, 255, 255, 255, 255, 255, 255,\n",
              "       255, 255, 255, 255, 255, 255, 255, 255, 255, 255, 255, 255, 255,\n",
              "       255, 255, 255, 255, 255, 255, 255, 255, 255, 255, 255, 255, 255,\n",
              "       255, 255, 255, 255, 255, 255, 255, 255, 255, 255, 255, 255, 255,\n",
              "       255, 255, 255, 255, 255, 255, 255, 255, 255, 255, 255, 255, 255,\n",
              "       255, 255, 255, 255, 255, 255, 255, 255, 255, 255, 255, 255, 255,\n",
              "       255, 255, 255, 255, 255, 255, 255, 255, 255, 255, 255, 255, 255,\n",
              "       255, 255, 255, 255, 255, 255, 255, 255, 255, 255, 255, 255, 255,\n",
              "       255, 255, 255, 255, 255, 255, 255, 255, 255, 255, 255, 255, 255,\n",
              "       255, 255, 255, 255, 255, 255, 255, 255, 255, 255, 255], dtype=uint8)"
            ]
          },
          "metadata": {},
          "execution_count": 15
        }
      ]
    },
    {
      "cell_type": "code",
      "source": [
        "print(len(thresh1))"
      ],
      "metadata": {
        "colab": {
          "base_uri": "https://localhost:8080/"
        },
        "id": "gHVN4HKIi0aQ",
        "outputId": "3a60b4a3-c05e-4025-d7a1-9e0d3eca22ab"
      },
      "execution_count": null,
      "outputs": [
        {
          "output_type": "stream",
          "name": "stdout",
          "text": [
            "1280\n"
          ]
        }
      ]
    },
    {
      "cell_type": "code",
      "source": [
        "thresh1[20][30]"
      ],
      "metadata": {
        "colab": {
          "base_uri": "https://localhost:8080/"
        },
        "id": "FNjnTCgVi-C-",
        "outputId": "63e6b211-6c61-43d2-da5a-c7d1e37fc437"
      },
      "execution_count": null,
      "outputs": [
        {
          "output_type": "execute_result",
          "data": {
            "text/plain": [
              "255"
            ]
          },
          "metadata": {},
          "execution_count": 17
        }
      ]
    },
    {
      "cell_type": "code",
      "source": [
        "thresh1[40][60]"
      ],
      "metadata": {
        "colab": {
          "base_uri": "https://localhost:8080/"
        },
        "id": "6oBJEwrzjA9e",
        "outputId": "629de854-36cd-4bd6-f793-fac22d158f29"
      },
      "execution_count": null,
      "outputs": [
        {
          "output_type": "execute_result",
          "data": {
            "text/plain": [
              "255"
            ]
          },
          "metadata": {},
          "execution_count": 18
        }
      ]
    },
    {
      "cell_type": "code",
      "source": [
        "w=b=0\n",
        "for i in range(1280):\n",
        "  for j in range(960):\n",
        "     p=thresh1[i][j]\n",
        "     if p==255:\n",
        "      w=w+1\n",
        "     else:\n",
        "       b=b+1"
      ],
      "metadata": {
        "id": "S6HEpduYjFYE"
      },
      "execution_count": null,
      "outputs": []
    },
    {
      "cell_type": "code",
      "source": [
        "print('white pixels:', w)"
      ],
      "metadata": {
        "colab": {
          "base_uri": "https://localhost:8080/"
        },
        "id": "qeXtGXrQjQ0b",
        "outputId": "52a04eb5-5e68-4fdc-b4d2-9836bfb968e6"
      },
      "execution_count": null,
      "outputs": [
        {
          "output_type": "stream",
          "name": "stdout",
          "text": [
            "white pixels: 1228800\n"
          ]
        }
      ]
    },
    {
      "cell_type": "code",
      "source": [
        "print('black pixels:', b)"
      ],
      "metadata": {
        "colab": {
          "base_uri": "https://localhost:8080/"
        },
        "id": "dJcKAl6fjUiS",
        "outputId": "d5bb5096-7192-40c1-adda-8841c8e4acf2"
      },
      "execution_count": null,
      "outputs": [
        {
          "output_type": "stream",
          "name": "stdout",
          "text": [
            "black pixels: 0\n"
          ]
        }
      ]
    },
    {
      "cell_type": "code",
      "source": [
        "print(thresh1)"
      ],
      "metadata": {
        "colab": {
          "base_uri": "https://localhost:8080/"
        },
        "id": "IdvawFG1jXAc",
        "outputId": "8ea8c679-ad4a-4935-c236-afeee2fd6bdb"
      },
      "execution_count": null,
      "outputs": [
        {
          "output_type": "stream",
          "name": "stdout",
          "text": [
            "[[255 255 255 ... 255 255 255]\n",
            " [255 255 255 ... 255 255 255]\n",
            " [255 255 255 ... 255 255 255]\n",
            " ...\n",
            " [255 255 255 ... 255 255 255]\n",
            " [255 255 255 ... 255 255 255]\n",
            " [255 255 255 ... 255 255 255]]\n"
          ]
        }
      ]
    },
    {
      "cell_type": "code",
      "source": [
        "cv2_imshow(thresh1)"
      ],
      "metadata": {
        "colab": {
          "base_uri": "https://localhost:8080/",
          "height": 1000
        },
        "id": "dINY0aMZjZkc",
        "outputId": "98ab4c2e-b1a7-40f4-891e-db568d3508cf"
      },
      "execution_count": null,
      "outputs": [
        {
          "output_type": "display_data",
          "data": {
            "text/plain": [
              "<PIL.Image.Image image mode=L size=960x1280 at 0x7FD7AFD39C40>"
            ],
            "image/png": "[encoded data removed]"
          },
          "metadata": {}
        }
      ]
    },
    {
      "cell_type": "code",
      "source": [
        "thresh2 = cv2.threshold(gray_pic ,40, 255, cv2.THRESH_BINARY)[1]\n",
        "cv2_imshow(thresh2)"
      ],
      "metadata": {
        "colab": {
          "base_uri": "https://localhost:8080/",
          "height": 1000
        },
        "id": "SY7M55uXjc-6",
        "outputId": "174e152b-d7ec-4714-b272-50b47161ee3f"
      },
      "execution_count": null,
      "outputs": [
        {
          "output_type": "display_data",
          "data": {
            "text/plain": [
              "<PIL.Image.Image image mode=L size=960x1280 at 0x7FD784ECA430>"
            ],
            "image/png": "[encoded data removed]"
          },
          "metadata": {}
        }
      ]
    },
    {
      "cell_type": "code",
      "source": [
        "w=b=0\n",
        "for i in range(1280):\n",
        "  for j in range(960):\n",
        "     p=thresh2[i][j]\n",
        "     if p==255:\n",
        "      w=w+1\n",
        "     else:\n",
        "       b=b+1\n",
        "\n",
        "print('white pixels:', w)\n",
        "print('black pixels:', b)"
      ],
      "metadata": {
        "colab": {
          "base_uri": "https://localhost:8080/"
        },
        "id": "M7jwArG-joUz",
        "outputId": "2f9b3dc2-dac0-4d73-eea8-27b150319983"
      },
      "execution_count": null,
      "outputs": [
        {
          "output_type": "stream",
          "name": "stdout",
          "text": [
            "white pixels: 1228786\n",
            "black pixels: 14\n"
          ]
        }
      ]
    },
    {
      "cell_type": "code",
      "source": [
        "thresh3 = cv2.threshold(gray_pic ,60, 255, cv2.THRESH_BINARY)[1]\n",
        "cv2_imshow(thresh3)"
      ],
      "metadata": {
        "colab": {
          "base_uri": "https://localhost:8080/",
          "height": 1000
        },
        "id": "_p8wuQzmjuu_",
        "outputId": "440ecfc8-2817-4027-f604-4691cada8c0b"
      },
      "execution_count": null,
      "outputs": [
        {
          "output_type": "display_data",
          "data": {
            "text/plain": [
              "<PIL.Image.Image image mode=L size=960x1280 at 0x7FD784E38CA0>"
            ],
            "image/png": "[encoded data removed]"
          },
          "metadata": {}
        }
      ]
    },
    {
      "cell_type": "code",
      "source": [
        "w=b=0\n",
        "for i in range(1280):\n",
        "  for j in range(960):\n",
        "     p=thresh3[i][j]\n",
        "     if p==255:\n",
        "      w=w+1\n",
        "     else:\n",
        "       b=b+1\n",
        "\n",
        "print('white pixels:', w)\n",
        "print('black pixels:', b)"
      ],
      "metadata": {
        "colab": {
          "base_uri": "https://localhost:8080/"
        },
        "id": "MMbPwsCHj7jP",
        "outputId": "a17f938c-4c73-46a2-ec1f-b0c82195475d"
      },
      "execution_count": null,
      "outputs": [
        {
          "output_type": "stream",
          "name": "stdout",
          "text": [
            "white pixels: 1227398\n",
            "black pixels: 1402\n"
          ]
        }
      ]
    },
    {
      "cell_type": "code",
      "source": [
        "thresh4 = cv2.threshold(gray_pic ,80, 255, cv2.THRESH_BINARY)[1]\n",
        "cv2_imshow(thresh4)"
      ],
      "metadata": {
        "colab": {
          "base_uri": "https://localhost:8080/",
          "height": 1000
        },
        "id": "qF5CSDCFkAVL",
        "outputId": "d3df6d4b-30f0-4d25-fc9c-1e67c8e89a46"
      },
      "execution_count": null,
      "outputs": [
        {
          "output_type": "display_data",
          "data": {
            "text/plain": [
              "<PIL.Image.Image image mode=L size=960x1280 at 0x7FD784ECA9A0>"
            ],
            "image/png": "[encoded data removed]"
          },
          "metadata": {}
        }
      ]
    },
    {
      "cell_type": "code",
      "source": [
        "w=b=0\n",
        "for i in range(1280):\n",
        "  for j in range(960):\n",
        "     p=thresh4[i][j]\n",
        "     if p==255:\n",
        "      w=w+1\n",
        "     else:\n",
        "       b=b+1\n",
        "\n",
        "print('white pixels:', w)\n",
        "print('black pixels:', b)"
      ],
      "metadata": {
        "colab": {
          "base_uri": "https://localhost:8080/"
        },
        "id": "ykiSrWLqkLGQ",
        "outputId": "a40447d4-ce78-4570-b97d-9391e594abe2"
      },
      "execution_count": null,
      "outputs": [
        {
          "output_type": "stream",
          "name": "stdout",
          "text": [
            "white pixels: 1223443\n",
            "black pixels: 5357\n"
          ]
        }
      ]
    },
    {
      "cell_type": "code",
      "source": [
        "thresh5 = cv2.threshold(gray_pic ,100, 255, cv2.THRESH_BINARY)[1]\n",
        "cv2_imshow(thresh5)"
      ],
      "metadata": {
        "colab": {
          "base_uri": "https://localhost:8080/",
          "height": 1000
        },
        "id": "qxB-KzVJkQ-e",
        "outputId": "84b1f766-9626-4e34-f1f0-8927f487a804"
      },
      "execution_count": null,
      "outputs": [
        {
          "output_type": "display_data",
          "data": {
            "text/plain": [
              "<PIL.Image.Image image mode=L size=960x1280 at 0x7FD784ECA400>"
            ],
            "image/png": "[encoded data removed]"
          },
          "metadata": {}
        }
      ]
    },
    {
      "cell_type": "code",
      "source": [
        "w=b=0\n",
        "for i in range(1280):\n",
        "  for j in range(960):\n",
        "     p=thresh5[i][j]\n",
        "     if p==255:\n",
        "      w=w+1\n",
        "     else:\n",
        "       b=b+1\n",
        "\n",
        "print('white pixels:', w)\n",
        "print('black pixels:', b)"
      ],
      "metadata": {
        "colab": {
          "base_uri": "https://localhost:8080/"
        },
        "id": "ARRHPzFjkUIT",
        "outputId": "3e622251-ec20-4ffd-b854-3be0fe2833e3"
      },
      "execution_count": null,
      "outputs": [
        {
          "output_type": "stream",
          "name": "stdout",
          "text": [
            "white pixels: 1220253\n",
            "black pixels: 8547\n"
          ]
        }
      ]
    },
    {
      "cell_type": "code",
      "source": [
        "thresh6 = cv2.threshold(gray_pic ,120, 255, cv2.THRESH_BINARY)[1]\n",
        "cv2_imshow(thresh6)"
      ],
      "metadata": {
        "colab": {
          "base_uri": "https://localhost:8080/",
          "height": 1000
        },
        "id": "HhIKMebwka6v",
        "outputId": "e7a27e87-558e-4fce-8446-12cc0db3970f"
      },
      "execution_count": null,
      "outputs": [
        {
          "output_type": "display_data",
          "data": {
            "text/plain": [
              "<PIL.Image.Image image mode=L size=960x1280 at 0x7FD784ECA460>"
            ],
            "image/png": "[encoded data removed]"
          },
          "metadata": {}
        }
      ]
    },
    {
      "cell_type": "code",
      "source": [
        "w=b=0\n",
        "for i in range(1280):\n",
        "  for j in range(960):\n",
        "     p=thresh6[i][j]\n",
        "     if p==255:\n",
        "      w=w+1\n",
        "     else:\n",
        "       b=b+1\n",
        "\n",
        "print('white pixels:', w)\n",
        "print('black pixels:', b)"
      ],
      "metadata": {
        "colab": {
          "base_uri": "https://localhost:8080/"
        },
        "id": "oprwinoIkeGx",
        "outputId": "fef9f141-4d7a-4e7f-8d4d-5fedb1d0115f"
      },
      "execution_count": null,
      "outputs": [
        {
          "output_type": "stream",
          "name": "stdout",
          "text": [
            "white pixels: 1213362\n",
            "black pixels: 15438\n"
          ]
        }
      ]
    },
    {
      "cell_type": "code",
      "source": [
        "thresh7 = cv2.threshold(gray_pic ,140, 255, cv2.THRESH_BINARY)[1]\n",
        "cv2_imshow(thresh7)"
      ],
      "metadata": {
        "colab": {
          "base_uri": "https://localhost:8080/",
          "height": 1000
        },
        "id": "t2OhTV7Pkie8",
        "outputId": "edb6666e-e080-4407-d8d9-d674f5b9cd7c"
      },
      "execution_count": null,
      "outputs": [
        {
          "output_type": "display_data",
          "data": {
            "text/plain": [
              "<PIL.Image.Image image mode=L size=960x1280 at 0x7FD784E385E0>"
            ],
            "image/png": "[encoded data removed]"
          },
          "metadata": {}
        }
      ]
    },
    {
      "cell_type": "code",
      "source": [
        "w=b=0\n",
        "for i in range(1280):\n",
        "  for j in range(960):\n",
        "     p=thresh7[i][j]\n",
        "     if p==255:\n",
        "      w=w+1\n",
        "     else:\n",
        "       b=b+1\n",
        "\n",
        "print('white pixels:', w)\n",
        "print('black pixels:', b)"
      ],
      "metadata": {
        "colab": {
          "base_uri": "https://localhost:8080/"
        },
        "id": "EpUX2VhGkoDQ",
        "outputId": "3aca1f34-a475-4d83-8ee3-8d4e60164a2c"
      },
      "execution_count": null,
      "outputs": [
        {
          "output_type": "stream",
          "name": "stdout",
          "text": [
            "white pixels: 952669\n",
            "black pixels: 276131\n"
          ]
        }
      ]
    },
    {
      "cell_type": "code",
      "source": [
        "thresh8 = cv2.threshold(gray_pic ,160, 255, cv2.THRESH_BINARY)[1]\n",
        "cv2_imshow(thresh8)"
      ],
      "metadata": {
        "colab": {
          "base_uri": "https://localhost:8080/",
          "height": 1000
        },
        "id": "J2ZbIkaZkt1s",
        "outputId": "aa5e4209-5b22-48fd-f125-caa48caaafea"
      },
      "execution_count": null,
      "outputs": [
        {
          "output_type": "display_data",
          "data": {
            "text/plain": [
              "<PIL.Image.Image image mode=L size=960x1280 at 0x7FD784E38EE0>"
            ],
            "image/png": "[encoded data removed]"
          },
          "metadata": {}
        }
      ]
    },
    {
      "cell_type": "code",
      "source": [
        "w=b=0\n",
        "for i in range(1280):\n",
        "  for j in range(960):\n",
        "     p=thresh8[i][j]\n",
        "     if p==255:\n",
        "      w=w+1\n",
        "     else:\n",
        "       b=b+1\n",
        "\n",
        "print('white pixels:', w)\n",
        "print('black pixels:', b)"
      ],
      "metadata": {
        "colab": {
          "base_uri": "https://localhost:8080/"
        },
        "id": "EYrN_miKkyfu",
        "outputId": "32c5cdf7-f598-492a-f94e-a4c93848b9ec"
      },
      "execution_count": null,
      "outputs": [
        {
          "output_type": "stream",
          "name": "stdout",
          "text": [
            "white pixels: 437490\n",
            "black pixels: 791310\n"
          ]
        }
      ]
    },
    {
      "cell_type": "code",
      "source": [
        "x = np.array([20, 40, 60, 80, 100, 120, 140, 160])\n",
        "y = np.array([1228800 , 1228786, 1227398,  1223443 , 1220253, 1213362, 952669, 437490 ])\n",
        "plt.plot(x, y , marker='o')\n",
        "plt.xlabel('Thresh')\n",
        "plt.ylabel('White Pixels')"
      ],
      "metadata": {
        "colab": {
          "base_uri": "https://localhost:8080/",
          "height": 307
        },
        "id": "p1OzVjcQlJlA",
        "outputId": "7907514d-1ffc-4d48-a2cf-afe09172a3db"
      },
      "execution_count": null,
      "outputs": [
        {
          "output_type": "execute_result",
          "data": {
            "text/plain": [
              "Text(0, 0.5, 'White Pixels')"
            ]
          },
          "metadata": {},
          "execution_count": 54
        },
        {
          "output_type": "display_data",
          "data": {
            "text/plain": [
              "<Figure size 432x288 with 1 Axes>"
            ],
            "image/png": "[encoded data removed]"
          },
          "metadata": {
            "needs_background": "light"
          }
        }
      ]
    },
    {
      "cell_type": "code",
      "source": [
        "x = np.array([20, 40, 60, 80, 100, 120, 140, 160])\n",
        "y = np.array([0 , 14, 1402, 5357 , 8547, 15438, 276131, 791310 ])\n",
        "plt.plot(x, y , marker='o')\n",
        "plt.xlabel('Thresh')\n",
        "plt.ylabel('black Pixels')"
      ],
      "metadata": {
        "colab": {
          "base_uri": "https://localhost:8080/",
          "height": 296
        },
        "id": "PYPikqIwldQE",
        "outputId": "c1b14299-bb0e-4a14-801a-4073f4142548"
      },
      "execution_count": null,
      "outputs": [
        {
          "output_type": "execute_result",
          "data": {
            "text/plain": [
              "Text(0, 0.5, 'black Pixels')"
            ]
          },
          "metadata": {},
          "execution_count": 55
        },
        {
          "output_type": "display_data",
          "data": {
            "text/plain": [
              "<Figure size 432x288 with 1 Axes>"
            ],
            "image/png": "[encoded data removed]"
          },
          "metadata": {
            "needs_background": "light"
          }
        }
      ]
    },
    {
      "cell_type": "code",
      "source": [],
      "metadata": {
        "id": "9hYRJDOxn6Cr"
      },
      "execution_count": null,
      "outputs": []
    }
  ]
}